{
 "cells": [
  {
   "cell_type": "markdown",
   "metadata": {
    "collapsed": false
   },
   "source": [
    "# Introduction:\n",
    "In this notebook, I will be analyzing user data from Last.fm.  Last.fm is a site for users to share their music with their friends and it connects to your music player service to track what and who you are listening to.  This notebook contains three parts:\n",
    "\n",
    "\n",
    "**1. ETL with SQLite3:**\n",
    "* In this section I extract the Last.fm data from the relevant files and load it into a database.\n",
    "\n",
    "**2. Network Analysis with Unweighted Centrality:**\n",
    "* In this section I use degree centrality to identify the most influential users based on the number of friends they have.\n",
    "\n",
    "**3. Weighted Centrality Measures:**\n",
    "* In this section I refine the measurement from part 2 based on the assumption that not all connections are equal.  I use eigenvector centrality which identifies influential users based on the number of friends they have and the weight of each connection."
   ]
  },
  {
   "cell_type": "markdown",
   "metadata": {},
   "source": [
    "# Part 1: ETL with SQLite3"
   ]
  },
  {
   "cell_type": "code",
   "execution_count": 1,
   "metadata": {
    "collapsed": false
   },
   "outputs": [],
   "source": [
    "import os\n",
    "import pandas as pd\n",
    "import math\n",
    "import latex\n",
    "import matplotlib.pyplot as plt\n",
    "import sqlite3\n",
    "import plotly.plotly as py\n",
    "from plotly.graph_objs import *\n",
    "import numpy as np\n",
    "import networkx as nx\n",
    "import scipy.sparse as sparse\n",
    "import pylab\n",
    "pylab.rcParams['figure.figsize'] = (10.0, 8.0)"
   ]
  },
  {
   "cell_type": "markdown",
   "metadata": {},
   "source": [
    "## Loading data from Last.fm\n",
    "\n",
    "Includes:\n",
    "\n",
    "\n",
    "**1. A table** `artists` **with variables:**\n",
    "* `id` (primary key):    the artist id.\n",
    "* `name`:     the artist name.\n",
    "* `url`:     link to the artist's Last.fm page.\n",
    "* `pictureURL`:     picture of artist.\n",
    "    \n",
    "**2. A table** `users` **with variables:**\n",
    "* `userID` (primary key):     the user id.\n",
    "* `artistID` (foreign key to `artists`):    the artist id.\n",
    "* `weight`:     the number of minutes spent listening to that artistID. \n",
    "\n",
    "**3. A table** `user friends` **with variables:**\n",
    "* `userID` (foreign key to `users`):     the user id.\n",
    "* `friendID` (primary key):     the friend id.\n",
    "    \n",
    "\n",
    "Using this data, let's first load it into a proper SQL database and then see if we can identify the most 'influential' listeners."
   ]
  },
  {
   "cell_type": "code",
   "execution_count": 2,
   "metadata": {
    "collapsed": false
   },
   "outputs": [],
   "source": [
    "#read .dat files into pandas dataframes\n",
    "artists = pd.read_csv('/data/artists.dat',sep='\\t')\n",
    "users = pd.read_csv('/data/user_artists.dat',sep='\\t')\n",
    "user_friends = pd.read_csv('/data/user_friends.dat',sep='\\t')"
   ]
  },
  {
   "cell_type": "code",
   "execution_count": 3,
   "metadata": {
    "collapsed": false
   },
   "outputs": [
    {
     "data": {
      "text/html": [
       "<div>\n",
       "<table border=\"1\" class=\"dataframe\">\n",
       "  <thead>\n",
       "    <tr style=\"text-align: right;\">\n",
       "      <th></th>\n",
       "      <th>id</th>\n",
       "      <th>name</th>\n",
       "      <th>url</th>\n",
       "      <th>pictureURL</th>\n",
       "    </tr>\n",
       "  </thead>\n",
       "  <tbody>\n",
       "    <tr>\n",
       "      <th>0</th>\n",
       "      <td>1</td>\n",
       "      <td>MALICE MIZER</td>\n",
       "      <td>http://www.last.fm/music/MALICE+MIZER</td>\n",
       "      <td>http://userserve-ak.last.fm/serve/252/10808.jpg</td>\n",
       "    </tr>\n",
       "    <tr>\n",
       "      <th>1</th>\n",
       "      <td>2</td>\n",
       "      <td>Diary of Dreams</td>\n",
       "      <td>http://www.last.fm/music/Diary+of+Dreams</td>\n",
       "      <td>http://userserve-ak.last.fm/serve/252/3052066.jpg</td>\n",
       "    </tr>\n",
       "    <tr>\n",
       "      <th>2</th>\n",
       "      <td>3</td>\n",
       "      <td>Carpathian Forest</td>\n",
       "      <td>http://www.last.fm/music/Carpathian+Forest</td>\n",
       "      <td>http://userserve-ak.last.fm/serve/252/40222717...</td>\n",
       "    </tr>\n",
       "    <tr>\n",
       "      <th>3</th>\n",
       "      <td>4</td>\n",
       "      <td>Moi dix Mois</td>\n",
       "      <td>http://www.last.fm/music/Moi+dix+Mois</td>\n",
       "      <td>http://userserve-ak.last.fm/serve/252/54697835...</td>\n",
       "    </tr>\n",
       "    <tr>\n",
       "      <th>4</th>\n",
       "      <td>5</td>\n",
       "      <td>Bella Morte</td>\n",
       "      <td>http://www.last.fm/music/Bella+Morte</td>\n",
       "      <td>http://userserve-ak.last.fm/serve/252/14789013...</td>\n",
       "    </tr>\n",
       "  </tbody>\n",
       "</table>\n",
       "</div>"
      ],
      "text/plain": [
       "   id               name                                         url  \\\n",
       "0   1       MALICE MIZER       http://www.last.fm/music/MALICE+MIZER   \n",
       "1   2    Diary of Dreams    http://www.last.fm/music/Diary+of+Dreams   \n",
       "2   3  Carpathian Forest  http://www.last.fm/music/Carpathian+Forest   \n",
       "3   4       Moi dix Mois       http://www.last.fm/music/Moi+dix+Mois   \n",
       "4   5        Bella Morte        http://www.last.fm/music/Bella+Morte   \n",
       "\n",
       "                                          pictureURL  \n",
       "0    http://userserve-ak.last.fm/serve/252/10808.jpg  \n",
       "1  http://userserve-ak.last.fm/serve/252/3052066.jpg  \n",
       "2  http://userserve-ak.last.fm/serve/252/40222717...  \n",
       "3  http://userserve-ak.last.fm/serve/252/54697835...  \n",
       "4  http://userserve-ak.last.fm/serve/252/14789013...  "
      ]
     },
     "execution_count": 3,
     "metadata": {},
     "output_type": "execute_result"
    }
   ],
   "source": [
    "artists.head()"
   ]
  },
  {
   "cell_type": "code",
   "execution_count": 4,
   "metadata": {
    "collapsed": false
   },
   "outputs": [
    {
     "data": {
      "text/html": [
       "<div>\n",
       "<table border=\"1\" class=\"dataframe\">\n",
       "  <thead>\n",
       "    <tr style=\"text-align: right;\">\n",
       "      <th></th>\n",
       "      <th>userID</th>\n",
       "      <th>artistID</th>\n",
       "      <th>weight</th>\n",
       "    </tr>\n",
       "  </thead>\n",
       "  <tbody>\n",
       "    <tr>\n",
       "      <th>0</th>\n",
       "      <td>2</td>\n",
       "      <td>51</td>\n",
       "      <td>13883</td>\n",
       "    </tr>\n",
       "    <tr>\n",
       "      <th>1</th>\n",
       "      <td>2</td>\n",
       "      <td>52</td>\n",
       "      <td>11690</td>\n",
       "    </tr>\n",
       "    <tr>\n",
       "      <th>2</th>\n",
       "      <td>2</td>\n",
       "      <td>53</td>\n",
       "      <td>11351</td>\n",
       "    </tr>\n",
       "    <tr>\n",
       "      <th>3</th>\n",
       "      <td>2</td>\n",
       "      <td>54</td>\n",
       "      <td>10300</td>\n",
       "    </tr>\n",
       "    <tr>\n",
       "      <th>4</th>\n",
       "      <td>2</td>\n",
       "      <td>55</td>\n",
       "      <td>8983</td>\n",
       "    </tr>\n",
       "  </tbody>\n",
       "</table>\n",
       "</div>"
      ],
      "text/plain": [
       "   userID  artistID  weight\n",
       "0       2        51   13883\n",
       "1       2        52   11690\n",
       "2       2        53   11351\n",
       "3       2        54   10300\n",
       "4       2        55    8983"
      ]
     },
     "execution_count": 4,
     "metadata": {},
     "output_type": "execute_result"
    }
   ],
   "source": [
    "users.head()"
   ]
  },
  {
   "cell_type": "code",
   "execution_count": 5,
   "metadata": {
    "collapsed": false
   },
   "outputs": [
    {
     "data": {
      "text/html": [
       "<div>\n",
       "<table border=\"1\" class=\"dataframe\">\n",
       "  <thead>\n",
       "    <tr style=\"text-align: right;\">\n",
       "      <th></th>\n",
       "      <th>userID</th>\n",
       "      <th>friendID</th>\n",
       "    </tr>\n",
       "  </thead>\n",
       "  <tbody>\n",
       "    <tr>\n",
       "      <th>0</th>\n",
       "      <td>2</td>\n",
       "      <td>275</td>\n",
       "    </tr>\n",
       "    <tr>\n",
       "      <th>1</th>\n",
       "      <td>2</td>\n",
       "      <td>428</td>\n",
       "    </tr>\n",
       "    <tr>\n",
       "      <th>2</th>\n",
       "      <td>2</td>\n",
       "      <td>515</td>\n",
       "    </tr>\n",
       "    <tr>\n",
       "      <th>3</th>\n",
       "      <td>2</td>\n",
       "      <td>761</td>\n",
       "    </tr>\n",
       "    <tr>\n",
       "      <th>4</th>\n",
       "      <td>2</td>\n",
       "      <td>831</td>\n",
       "    </tr>\n",
       "  </tbody>\n",
       "</table>\n",
       "</div>"
      ],
      "text/plain": [
       "   userID  friendID\n",
       "0       2       275\n",
       "1       2       428\n",
       "2       2       515\n",
       "3       2       761\n",
       "4       2       831"
      ]
     },
     "execution_count": 5,
     "metadata": {},
     "output_type": "execute_result"
    }
   ],
   "source": [
    "user_friends.head()"
   ]
  },
  {
   "cell_type": "markdown",
   "metadata": {},
   "source": [
    "## Creating DB with SQLite\n",
    "\n",
    "Use SQLite3 to create a database"
   ]
  },
  {
   "cell_type": "code",
   "execution_count": 6,
   "metadata": {
    "collapsed": false
   },
   "outputs": [],
   "source": [
    "def create_connection(db):\n",
    "    try:\n",
    "        conn = sqlite3.connect(db)\n",
    "        return conn\n",
    "    except ValueError:\n",
    "        print('Database already in current directory.')\n",
    "    \n",
    "    return None\n",
    "\n",
    "def create_table(connection, table, name):\n",
    "    table.to_sql(\"{}\".format(name),connection,index=False)\n",
    "        \n",
    "def main():\n",
    "    db = 'artist_user.db'\n",
    "    conn = create_connection(db)\n",
    "    try:\n",
    "        create_table(conn,artists,'artists')\n",
    "        create_table(conn,users,'users')\n",
    "        create_table(conn,user_friends,'friends')\n",
    "    except ValueError:\n",
    "        print(\"The tables have already been created.\")"
   ]
  },
  {
   "cell_type": "code",
   "execution_count": 7,
   "metadata": {
    "collapsed": false
   },
   "outputs": [],
   "source": [
    "if __name__ == '__main__':\n",
    "    main()"
   ]
  },
  {
   "cell_type": "markdown",
   "metadata": {},
   "source": [
    "Checking to make sure all tables were properly loaded into my database:"
   ]
  },
  {
   "cell_type": "code",
   "execution_count": 8,
   "metadata": {
    "collapsed": false
   },
   "outputs": [
    {
     "name": "stdout",
     "output_type": "stream",
     "text": [
      "[('artists',), ('users',), ('friends',)]\n"
     ]
    }
   ],
   "source": [
    "conn = create_connection('artist_user.db')\n",
    "cursor = conn.cursor()\n",
    "cursor.execute(\"select name from sqlite_master where type='table';\")\n",
    "print(cursor.fetchall())"
   ]
  },
  {
   "cell_type": "markdown",
   "metadata": {},
   "source": [
    "# Part 2: Network Analysis with Unweighted Centrality:\n",
    "\n",
    "After loading our data into the database, we can query it to do some basic analysis as well as gather the necessary data for our network analysis.  In this part, I'll be analyzing the network using a measure called degree centrality in which influence is a function of how many friends a user has.  In a graph each user is treated as a vertex and each connection an edge between vertices."
   ]
  },
  {
   "cell_type": "code",
   "execution_count": 9,
   "metadata": {
    "collapsed": false
   },
   "outputs": [
    {
     "data": {
      "text/html": [
       "<div>\n",
       "<table border=\"1\" class=\"dataframe\">\n",
       "  <thead>\n",
       "    <tr style=\"text-align: right;\">\n",
       "      <th></th>\n",
       "      <th>userID</th>\n",
       "      <th>friendID</th>\n",
       "    </tr>\n",
       "  </thead>\n",
       "  <tbody>\n",
       "    <tr>\n",
       "      <th>0</th>\n",
       "      <td>2</td>\n",
       "      <td>275</td>\n",
       "    </tr>\n",
       "    <tr>\n",
       "      <th>1</th>\n",
       "      <td>2</td>\n",
       "      <td>428</td>\n",
       "    </tr>\n",
       "    <tr>\n",
       "      <th>2</th>\n",
       "      <td>2</td>\n",
       "      <td>515</td>\n",
       "    </tr>\n",
       "    <tr>\n",
       "      <th>3</th>\n",
       "      <td>2</td>\n",
       "      <td>761</td>\n",
       "    </tr>\n",
       "    <tr>\n",
       "      <th>4</th>\n",
       "      <td>2</td>\n",
       "      <td>831</td>\n",
       "    </tr>\n",
       "  </tbody>\n",
       "</table>\n",
       "</div>"
      ],
      "text/plain": [
       "   userID  friendID\n",
       "0       2       275\n",
       "1       2       428\n",
       "2       2       515\n",
       "3       2       761\n",
       "4       2       831"
      ]
     },
     "execution_count": 9,
     "metadata": {},
     "output_type": "execute_result"
    }
   ],
   "source": [
    "#create dataframe from table friends\n",
    "friend_query = \"\"\"select\n",
    "            userID\n",
    "            , friendID\n",
    "            from friends;\"\"\"\n",
    "\n",
    "df_friends = pd.read_sql_query(friend_query,conn)\n",
    "df_friends.head()"
   ]
  },
  {
   "cell_type": "markdown",
   "metadata": {},
   "source": [
    "Next I need to create an adjacency dictionary such that each user is a key and each friend of theirs is a value:"
   ]
  },
  {
   "cell_type": "code",
   "execution_count": 10,
   "metadata": {
    "collapsed": false
   },
   "outputs": [],
   "source": [
    "#convert each row of the dataframe into a tuple.\n",
    "observations = list(zip(df_friends.userID,df_friends.friendID))\n",
    "\n",
    "#create dictionary and load tuples as key-value pairs.\n",
    "userLinks = {}\n",
    "for (userID, friendID) in observations:\n",
    "    if not userID in userLinks.keys():\n",
    "        userLinks[userID] = []\n",
    "    userLinks[userID].append(friendID)\n",
    "\n",
    "#aggregate all friends for each user.\n",
    "friends = set([friendID for (userID,friendID) in observations])\n",
    "\n",
    "#load aggregate into second dictionary.\n",
    "friendLinks = { friendID : set() for friendID in friends}\n",
    "\n",
    "for friendList in userLinks.values():\n",
    "    for friend in friendList:\n",
    "        friendLinks[friend] = friendLinks[friend].union(set(friendList))"
   ]
  },
  {
   "cell_type": "markdown",
   "metadata": {
    "collapsed": true
   },
   "source": [
    "Then I convert the adjacency dictionary to an adjacency matrix using pandas and numpy:"
   ]
  },
  {
   "cell_type": "code",
   "execution_count": 11,
   "metadata": {
    "collapsed": false
   },
   "outputs": [
    {
     "name": "stdout",
     "output_type": "stream",
     "text": [
      "[[1 0 0 ..., 0 0 0]\n",
      " [0 1 0 ..., 0 1 0]\n",
      " [0 0 1 ..., 0 0 0]\n",
      " ..., \n",
      " [0 0 0 ..., 1 0 0]\n",
      " [0 1 0 ..., 0 1 0]\n",
      " [0 0 0 ..., 0 0 1]]\n"
     ]
    }
   ],
   "source": [
    "edges = [(userID,friendID) for userID,friendIDs in friendLinks.items() for friendID in friendIDs]\n",
    "\n",
    "df = pd.DataFrame(edges)\n",
    "\n",
    "adj_mat = np.matrix(pd.crosstab(df[0],df[1]))\n",
    "print(adj_mat) "
   ]
  },
  {
   "cell_type": "markdown",
   "metadata": {},
   "source": [
    "Create graph using networkx package:"
   ]
  },
  {
   "cell_type": "code",
   "execution_count": 12,
   "metadata": {
    "collapsed": false
   },
   "outputs": [],
   "source": [
    "G=nx.from_numpy_matrix(adj_mat)"
   ]
  },
  {
   "cell_type": "code",
   "execution_count": 13,
   "metadata": {
    "collapsed": false
   },
   "outputs": [],
   "source": [
    "degree = nx.degree_centrality(G)"
   ]
  },
  {
   "cell_type": "markdown",
   "metadata": {},
   "source": [
    "Let's load a DataFrame containing the two columns `userID` and `influence` into our database.  `influence` is measured by degree centrality where the more connections a user has, the greater their \"influence.\""
   ]
  },
  {
   "cell_type": "code",
   "execution_count": 14,
   "metadata": {
    "collapsed": true
   },
   "outputs": [],
   "source": [
    "user_influence=pd.DataFrame.from_dict(degree,orient='index')\n",
    "user_influence['userID'] = user_influence.index\n",
    "user_influence.columns = ['influence', 'userID']\n",
    "create_table(conn,user_influence,'user_influence')"
   ]
  },
  {
   "cell_type": "code",
   "execution_count": 15,
   "metadata": {
    "collapsed": false
   },
   "outputs": [
    {
     "name": "stdout",
     "output_type": "stream",
     "text": [
      "[(772, 0.5668958223162348), (1394, 0.508725542041248), (1164, 0.4843997884717081), (1710, 0.47170809095716554), (137, 0.4706504494976203)]\n"
     ]
    }
   ],
   "source": [
    "sorted_users = [x for x in degree.items()] \n",
    "\n",
    "sorted_users.sort(key=lambda x: x[1],reverse=True)\n",
    "print(sorted_users[0:5])"
   ]
  },
  {
   "cell_type": "markdown",
   "metadata": {},
   "source": [
    "**Takeaways:** As expected, user with userID 772 had the greatest number of friends and is also considered the most influential by degree centrality.  Degree centrality is quite a simple measurement as it treats each connection equally, later I'll weight the connections to obtain a more refined measurement of influence."
   ]
  },
  {
   "cell_type": "code",
   "execution_count": 16,
   "metadata": {
    "collapsed": false
   },
   "outputs": [
    {
     "data": {
      "text/html": [
       "<div>\n",
       "<table border=\"1\" class=\"dataframe\">\n",
       "  <thead>\n",
       "    <tr style=\"text-align: right;\">\n",
       "      <th></th>\n",
       "      <th>userID</th>\n",
       "      <th>minutes_listened</th>\n",
       "      <th>name</th>\n",
       "      <th>url</th>\n",
       "    </tr>\n",
       "  </thead>\n",
       "  <tbody>\n",
       "    <tr>\n",
       "      <th>0</th>\n",
       "      <td>137</td>\n",
       "      <td>1108</td>\n",
       "      <td>Kylie Minogue</td>\n",
       "      <td>http://www.last.fm/music/Kylie+Minogue</td>\n",
       "    </tr>\n",
       "    <tr>\n",
       "      <th>1</th>\n",
       "      <td>137</td>\n",
       "      <td>1512</td>\n",
       "      <td>Daft Punk</td>\n",
       "      <td>http://www.last.fm/music/Daft+Punk</td>\n",
       "    </tr>\n",
       "    <tr>\n",
       "      <th>2</th>\n",
       "      <td>137</td>\n",
       "      <td>1569</td>\n",
       "      <td>Goldfrapp</td>\n",
       "      <td>http://www.last.fm/music/Goldfrapp</td>\n",
       "    </tr>\n",
       "    <tr>\n",
       "      <th>3</th>\n",
       "      <td>137</td>\n",
       "      <td>409</td>\n",
       "      <td>Röyksopp</td>\n",
       "      <td>http://www.last.fm/music/R%C3%B6yksopp</td>\n",
       "    </tr>\n",
       "    <tr>\n",
       "      <th>4</th>\n",
       "      <td>137</td>\n",
       "      <td>536</td>\n",
       "      <td>Coldplay</td>\n",
       "      <td>http://www.last.fm/music/Coldplay</td>\n",
       "    </tr>\n",
       "  </tbody>\n",
       "</table>\n",
       "</div>"
      ],
      "text/plain": [
       "   userID  minutes_listened           name  \\\n",
       "0     137              1108  Kylie Minogue   \n",
       "1     137              1512      Daft Punk   \n",
       "2     137              1569      Goldfrapp   \n",
       "3     137               409       Röyksopp   \n",
       "4     137               536       Coldplay   \n",
       "\n",
       "                                      url  \n",
       "0  http://www.last.fm/music/Kylie+Minogue  \n",
       "1      http://www.last.fm/music/Daft+Punk  \n",
       "2      http://www.last.fm/music/Goldfrapp  \n",
       "3  http://www.last.fm/music/R%C3%B6yksopp  \n",
       "4       http://www.last.fm/music/Coldplay  "
      ]
     },
     "execution_count": 16,
     "metadata": {},
     "output_type": "execute_result"
    }
   ],
   "source": [
    "#look at the top artists of the top 5 users\n",
    "x1=','.join(str(x[0]) for x in sorted_users[0:5])\n",
    "pwr_artists = \"\"\"select\n",
    "            a.userID\n",
    "            , a.weight as minutes_listened\n",
    "            , b.name\n",
    "            , b.url\n",
    "         from users a\n",
    "         left join artists b\n",
    "             on a.artistID = b.id\n",
    "         where a.userID in ({top5users})\"\"\"\n",
    "pwr_artists=pwr_artists.format(top5users=x1)\n",
    "artistWeights = pd.read_sql_query(pwr_artists,conn)\n",
    "artistWeights.head()"
   ]
  },
  {
   "cell_type": "markdown",
   "metadata": {},
   "source": [
    "How does time spent listening to Last.fm relate to the number of friends a user has?  Would one expect there to be a positive or negative correlation between the two?  I would hypothesize that the more one listens the more friends they would have, since time listening is a great proxy for engagement with the site.\n",
    "\n",
    "\n",
    "To explore, one can plot user influence as determined by degree centrality against the total time listening for each user.  Influence as defined above is a direct approximation for the number of friends a user has, so the plot will allow us to see the correlation between number of friends and time listening.  "
   ]
  },
  {
   "cell_type": "code",
   "execution_count": 17,
   "metadata": {
    "collapsed": false
   },
   "outputs": [
    {
     "name": "stdout",
     "output_type": "stream",
     "text": [
      "The best fitting equation is: \n",
      "           2\n",
      "1.151e-12 x - 2.766e-07 x + 0.1197\n"
     ]
    },
    {
     "data": {
      "image/png": "[encoded data removed]",
      "text/plain": [
       "<matplotlib.figure.Figure at 0x12237bda0>"
      ]
     },
     "metadata": {},
     "output_type": "display_data"
    }
   ],
   "source": [
    "time_listening = \"\"\"select\n",
    "            a.userID\n",
    "            , a.influence\n",
    "            , sum(b.weight) as minutes_listened\n",
    "         from user_influence a\n",
    "         inner join users b\n",
    "             on a.userID = b.userID\n",
    "         group by a.userID, a.influence\n",
    "         order by sum(b.weight) desc;\"\"\"\n",
    "\n",
    "#create dataframe\n",
    "influence_vs_listening = pd.read_sql_query(time_listening,conn)\n",
    "\n",
    "#fit polynomial\n",
    "fit = np.polyfit(influence_vs_listening['minutes_listened'],influence_vs_listening['influence'],2)\n",
    "fit_fn = np.poly1d(fit) \n",
    "print(\"The best fitting equation is: \\n{}\".format(fit_fn))\n",
    "\n",
    "\n",
    "\n",
    "plt.plot(influence_vs_listening['minutes_listened'], influence_vs_listening['influence'],'yo',influence_vs_listening['minutes_listened'],fit_fn(influence_vs_listening['minutes_listened']),'--k')\n",
    "plt.show() "
   ]
  },
  {
   "cell_type": "markdown",
   "metadata": {},
   "source": [
    "**Takeaways:** It appears from visual inspection as though there is a slight negative correlation between time listening and influence.  If one fits a quadratic polynomial to the data we see that it is initially decreasing before increasing.  Based on the sparsity of data points on the upper end of the time listening distribution, I suspect the upward inflection is due to outliers and the true trend is negative."
   ]
  },
  {
   "cell_type": "markdown",
   "metadata": {},
   "source": [
    "# Part 3: Weighted Centrality Measures\n",
    "In addition to being a great proxy for engagement, the amount of time a user spends listening directly affects the number of opportunities they have to influence one of their friends.  \n",
    "\n",
    "Where I initially assumed all users had equal influence (i.e. weight = 1), in reality some connections must be more 'valuable' than others. So now I can perform a similar centrality analysis with the weights:\n",
    "$$\\sum t_{i,j}$$\n",
    "\n",
    "where $t_i$ represents the amount of time user $i$ spends cumulatively listening.\n",
    "\n",
    "Specifically we will be using eigenvector centrality."
   ]
  },
  {
   "cell_type": "code",
   "execution_count": 18,
   "metadata": {
    "collapsed": false
   },
   "outputs": [
    {
     "name": "stdout",
     "output_type": "stream",
     "text": [
      "[[       2      275  8554650]\n",
      " [       2      428 18619100]\n",
      " [       2      515  8947550]\n",
      " ..., \n",
      " [    2099     2016   671250]\n",
      " [    2100      586  2134800]\n",
      " [    2100      607  2183600]]\n"
     ]
    }
   ],
   "source": [
    "#query to select user x, user y, and the weight along the edge\n",
    "weightedQuery = \"\"\"select\n",
    "                a.userID\n",
    "                , b.friendID\n",
    "                , sum(a.weight) + sum(c.weight) as weight\n",
    "                from users a\n",
    "                inner join friends b\n",
    "                    on a.userID = b.userID\n",
    "                inner join users c\n",
    "                    on b.friendID = c.userID\n",
    "                group by a.userID, b.friendID;\"\"\"\n",
    "weightedUsers = np.array(pd.read_sql_query(weightedQuery,conn))\n",
    "print(weightedUsers)"
   ]
  },
  {
   "cell_type": "markdown",
   "metadata": {},
   "source": [
    "Create weighted adjacency matrix using numpy and scipy:"
   ]
  },
  {
   "cell_type": "code",
   "execution_count": 19,
   "metadata": {
    "collapsed": false
   },
   "outputs": [
    {
     "name": "stdout",
     "output_type": "stream",
     "text": [
      "  (2, 275)\t8554650\n",
      "  (2, 428)\t18619100\n",
      "  (2, 515)\t8947550\n",
      "  (2, 761)\t10150950\n",
      "  (2, 831)\t14053350\n",
      "  (2, 909)\t14408150\n",
      "  (2, 1209)\t8674000\n",
      "  (2, 1210)\t23137650\n",
      "  (2, 1230)\t8463050\n",
      "  (2, 1327)\t8479000\n",
      "  (2, 1585)\t15657000\n",
      "  (2, 1625)\t8458000\n",
      "  (2, 1869)\t9788700\n",
      "  (3, 78)\t1561050\n",
      "  (3, 255)\t1957050\n",
      "  (3, 460)\t1945300\n",
      "  (3, 837)\t1684600\n",
      "  (3, 1740)\t3957850\n",
      "  (3, 1801)\t1150750\n",
      "  (3, 1975)\t2110900\n",
      "  (4, 99)\t2137250\n",
      "  (4, 124)\t2933300\n",
      "  (4, 211)\t3094650\n",
      "  (4, 264)\t3679050\n",
      "  (4, 493)\t1340640\n",
      "  :\t:\n",
      "  (2091, 1948)\t761950\n",
      "  (2091, 1950)\t1559650\n",
      "  (2092, 1295)\t3667800\n",
      "  (2092, 2084)\t4202950\n",
      "  (2093, 157)\t793000\n",
      "  (2093, 1266)\t30396\n",
      "  (2093, 1731)\t22382\n",
      "  (2093, 1914)\t1790650\n",
      "  (2094, 1628)\t8672100\n",
      "  (2094, 1816)\t5844850\n",
      "  (2095, 655)\t277700\n",
      "  (2095, 1342)\t3952500\n",
      "  (2096, 1787)\t4116850\n",
      "  (2097, 31)\t2093200\n",
      "  (2097, 172)\t1642950\n",
      "  (2097, 1173)\t2843550\n",
      "  (2097, 1343)\t752550\n",
      "  (2097, 1642)\t20104050\n",
      "  (2097, 1785)\t5426150\n",
      "  (2099, 1507)\t595100\n",
      "  (2099, 1801)\t634650\n",
      "  (2099, 2006)\t2292950\n",
      "  (2099, 2016)\t671250\n",
      "  (2100, 586)\t2134800\n",
      "  (2100, 607)\t2183600\n"
     ]
    }
   ],
   "source": [
    "shape = tuple(weightedUsers.max(axis=0)[:2]+1)\n",
    "#create sparse matrix\n",
    "coo = sparse.coo_matrix((weightedUsers[:,2], (weightedUsers[:,0], weightedUsers[:,1])), shape=shape,\n",
    "                        dtype=weightedUsers.dtype)\n",
    "\n",
    "print(coo)"
   ]
  },
  {
   "cell_type": "markdown",
   "metadata": {},
   "source": [
    "As before each of the vertices of the graph will be a user and each edge will be a connection between users.  The difference is that now each edge additionally has a weight, which is the cumulative time spent listening by both connected users."
   ]
  },
  {
   "cell_type": "code",
   "execution_count": 20,
   "metadata": {
    "collapsed": false
   },
   "outputs": [
    {
     "name": "stdout",
     "output_type": "stream",
     "text": [
      "[[0 0 0 ..., 0 0 0]\n",
      " [0 0 0 ..., 0 0 0]\n",
      " [0 0 0 ..., 0 0 0]\n",
      " ..., \n",
      " [0 0 0 ..., 0 0 0]\n",
      " [0 0 0 ..., 0 0 0]\n",
      " [0 0 0 ..., 0 0 0]]\n"
     ]
    }
   ],
   "source": [
    "#gather sparse matrix and convert to graph\n",
    "weightedAdj = coo.todense()\n",
    "print(weightedAdj)\n",
    "\n",
    "wG=nx.from_numpy_matrix(weightedAdj)\n",
    "eigenV = nx.eigenvector_centrality(wG)"
   ]
  },
  {
   "cell_type": "code",
   "execution_count": 21,
   "metadata": {
    "collapsed": false
   },
   "outputs": [
    {
     "name": "stdout",
     "output_type": "stream",
     "text": [
      "[(514, 0.2745078764197715), (621, 0.20666147941200141), (1300, 0.18094748186268877), (851, 0.16718895811666853), (385, 0.1625755535567184)]\n"
     ]
    }
   ],
   "source": [
    "#find the top 5 users by influence\n",
    "sorted_users = [x for x in eigenV.items()] \n",
    "\n",
    "sorted_users.sort(key=lambda x: x[1],reverse=True)\n",
    "print(sorted_users[0:5])"
   ]
  },
  {
   "cell_type": "markdown",
   "metadata": {},
   "source": [
    "**Takeaways:** Using eigenvector centrality, one identifies an entirely different set of influential users.  Clearly, the number of friends a user has is not the sole predictor of influence.  None of the top 100 most influential users as identified by degree centrality overlap with the top 100 users as identified by eigenvector centrality.  This is perhaps not surprising as the chart above suggests that, if anything, there is a small negative correlation between the number of friends a user has and the amount of time they spend listening to music.\n",
    "\n",
    "**Conclusion:** Measures of centrality are useful in a wide variety of scenarios that involve connections between objects of interest.  For example, as a research assistant in the School of International Political Affairs at Columbia University at 2015, I used degree centrality to analyze New York State labor union data.  The goal was to identify union members who had donated to a union fund and could potentially influence other union members in their area to donate.  The centrality measure is consequently composed of both the number of members in the same local union as the member in question (the edges) and the amount each member has donated (the weights).  My analysis allowed the labor union in question to target highly influential members with messaging, thereby providing potential revenue at a lower cost."
   ]
  },
  {
   "cell_type": "markdown",
   "metadata": {},
   "source": [
    "## Index: Extra Graphs"
   ]
  },
  {
   "cell_type": "code",
   "execution_count": 22,
   "metadata": {
    "collapsed": false
   },
   "outputs": [
    {
     "data": {
      "image/png": "[encoded data removed]",
      "text/plain": [
       "<matplotlib.figure.Figure at 0x11957a908>"
      ]
     },
     "metadata": {},
     "output_type": "display_data"
    }
   ],
   "source": [
    "#plot users and their relative influence\n",
    "plt.bar(range(len(degree)),degree.values(),align='center')\n",
    "plt.xticks(range(len(degree)), list(degree.keys()))\n",
    "plt.show()"
   ]
  },
  {
   "cell_type": "code",
   "execution_count": 23,
   "metadata": {
    "collapsed": false
   },
   "outputs": [
    {
     "data": {
      "image/png": "[encoded data removed]",
      "text/plain": [
       "<matplotlib.figure.Figure at 0x11de3ce48>"
      ]
     },
     "metadata": {},
     "output_type": "display_data"
    }
   ],
   "source": [
    "#histogram of influence\n",
    "freq = [x[1] for x in sorted_users]\n",
    "plt.bar(range(len(freq)),freq,align='center')\n",
    "plt.xticks(range(len(freq)))\n",
    "plt.show()"
   ]
  }
 ],
 "metadata": {
  "kernelspec": {
   "display_name": "Python 3",
   "language": "python",
   "name": "python3"
  },
  "language_info": {
   "codemirror_mode": {
    "name": "ipython",
    "version": 3
   },
   "file_extension": ".py",
   "mimetype": "text/x-python",
   "name": "python",
   "nbconvert_exporter": "python",
   "pygments_lexer": "ipython3",
   "version": "3.6.0"
  }
 },
 "nbformat": 4,
 "nbformat_minor": 2
}
